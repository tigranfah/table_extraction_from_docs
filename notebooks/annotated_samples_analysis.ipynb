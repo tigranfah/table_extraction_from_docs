{
 "cells": [
  {
   "cell_type": "code",
   "execution_count": 16,
   "metadata": {},
   "outputs": [
    {
     "data": {
      "text/plain": [
       "<module 'vis' from '/home/cseadmin/Tigran/table_extractor/notebooks/../scripts/vis.py'>"
      ]
     },
     "execution_count": 16,
     "metadata": {},
     "output_type": "execute_result"
    }
   ],
   "source": [
    "import tensorflow as tf\n",
    "import numpy as np\n",
    "import cv2\n",
    "import matplotlib.pyplot as plt\n",
    "import pandas as pd\n",
    "\n",
    "import os\n",
    "import sys\n",
    "from pathlib import Path\n",
    "\n",
    "sys.path.insert(0, \"../scripts\")\n",
    "\n",
    "from utils import train_test_split, image_batch_generator, get_train_augmentation, get_table_augmentation\n",
    "from utils import DATASET_PATH, DS_IMAGES, DS_MASKS\n",
    "import utils\n",
    "# from models import TableNet, load_light_unet\n",
    "# import models\n",
    "from vis import imshow, anshow, colanshow\n",
    "import vis\n",
    "\n",
    "import importlib\n",
    "importlib.reload(utils)\n",
    "importlib.reload(vis)"
   ]
  },
  {
   "cell_type": "code",
   "execution_count": 5,
   "metadata": {},
   "outputs": [],
   "source": [
    "DS_DIR = \"../datasets/Images_coordinates/\""
   ]
  },
  {
   "cell_type": "code",
   "execution_count": 43,
   "metadata": {},
   "outputs": [],
   "source": [
    "DS_IMAGES = list(Path(DS_DIR).glob(\"*.jpg\"))"
   ]
  },
  {
   "cell_type": "code",
   "execution_count": 22,
   "metadata": {},
   "outputs": [
    {
     "data": {
      "text/html": [
       "<div>\n",
       "<style scoped>\n",
       "    .dataframe tbody tr th:only-of-type {\n",
       "        vertical-align: middle;\n",
       "    }\n",
       "\n",
       "    .dataframe tbody tr th {\n",
       "        vertical-align: top;\n",
       "    }\n",
       "\n",
       "    .dataframe thead th {\n",
       "        text-align: right;\n",
       "    }\n",
       "</style>\n",
       "<table border=\"1\" class=\"dataframe\">\n",
       "  <thead>\n",
       "    <tr style=\"text-align: right;\">\n",
       "      <th></th>\n",
       "      <th>Name</th>\n",
       "      <th>x_min</th>\n",
       "      <th>y_min</th>\n",
       "      <th>x_max</th>\n",
       "      <th>y_max</th>\n",
       "    </tr>\n",
       "  </thead>\n",
       "  <tbody>\n",
       "    <tr>\n",
       "      <th>0</th>\n",
       "      <td>0803.1220.pdf_page_0.jpg</td>\n",
       "      <td>330</td>\n",
       "      <td>1314</td>\n",
       "      <td>1378</td>\n",
       "      <td>1453</td>\n",
       "    </tr>\n",
       "    <tr>\n",
       "      <th>1</th>\n",
       "      <td>0803.1220.pdf_page_0.jpg</td>\n",
       "      <td>336</td>\n",
       "      <td>1657</td>\n",
       "      <td>1369</td>\n",
       "      <td>1917</td>\n",
       "    </tr>\n",
       "    <tr>\n",
       "      <th>2</th>\n",
       "      <td>0803.1220.pdf_page_1.jpg</td>\n",
       "      <td>345</td>\n",
       "      <td>345</td>\n",
       "      <td>1360</td>\n",
       "      <td>1078</td>\n",
       "    </tr>\n",
       "    <tr>\n",
       "      <th>3</th>\n",
       "      <td>Alcester_Grammar_School_The_Record_157_1991_ A...</td>\n",
       "      <td>259</td>\n",
       "      <td>200</td>\n",
       "      <td>978</td>\n",
       "      <td>1412</td>\n",
       "    </tr>\n",
       "    <tr>\n",
       "      <th>4</th>\n",
       "      <td>Alcester_Grammar_School_The_Record_157_1991_ A...</td>\n",
       "      <td>124</td>\n",
       "      <td>222</td>\n",
       "      <td>922</td>\n",
       "      <td>1204</td>\n",
       "    </tr>\n",
       "  </tbody>\n",
       "</table>\n",
       "</div>"
      ],
      "text/plain": [
       "                                                Name  x_min  y_min  x_max  \\\n",
       "0                           0803.1220.pdf_page_0.jpg    330   1314   1378   \n",
       "1                           0803.1220.pdf_page_0.jpg    336   1657   1369   \n",
       "2                           0803.1220.pdf_page_1.jpg    345    345   1360   \n",
       "3  Alcester_Grammar_School_The_Record_157_1991_ A...    259    200    978   \n",
       "4  Alcester_Grammar_School_The_Record_157_1991_ A...    124    222    922   \n",
       "\n",
       "   y_max  \n",
       "0   1453  \n",
       "1   1917  \n",
       "2   1078  \n",
       "3   1412  \n",
       "4   1204  "
      ]
     },
     "execution_count": 22,
     "metadata": {},
     "output_type": "execute_result"
    }
   ],
   "source": [
    "ann_df = pd.read_csv(DS_DIR + \"/Coordinates.csv\")\n",
    "ann_df.head()"
   ]
  },
  {
   "cell_type": "code",
   "execution_count": 10,
   "metadata": {},
   "outputs": [],
   "source": [
    "img = cv2.imread(os.path.join(DS_DIR, DS_IMAGES[0]))"
   ]
  },
  {
   "cell_type": "code",
   "execution_count": 64,
   "metadata": {},
   "outputs": [
    {
     "data": {
      "text/html": [
       "<div>\n",
       "<style scoped>\n",
       "    .dataframe tbody tr th:only-of-type {\n",
       "        vertical-align: middle;\n",
       "    }\n",
       "\n",
       "    .dataframe tbody tr th {\n",
       "        vertical-align: top;\n",
       "    }\n",
       "\n",
       "    .dataframe thead th {\n",
       "        text-align: right;\n",
       "    }\n",
       "</style>\n",
       "<table border=\"1\" class=\"dataframe\">\n",
       "  <thead>\n",
       "    <tr style=\"text-align: right;\">\n",
       "      <th></th>\n",
       "      <th>Name</th>\n",
       "      <th>x_min</th>\n",
       "      <th>y_min</th>\n",
       "      <th>x_max</th>\n",
       "      <th>y_max</th>\n",
       "    </tr>\n",
       "  </thead>\n",
       "  <tbody>\n",
       "  </tbody>\n",
       "</table>\n",
       "</div>"
      ],
      "text/plain": [
       "Empty DataFrame\n",
       "Columns: [Name, x_min, y_min, x_max, y_max]\n",
       "Index: []"
      ]
     },
     "execution_count": 64,
     "metadata": {},
     "output_type": "execute_result"
    }
   ],
   "source": [
    "# ann_df[ann_df[\"Name\"] == \"mtrl-th9505007.pdf_page_38.jpg\"]"
   ]
  },
  {
   "cell_type": "code",
   "execution_count": 68,
   "metadata": {},
   "outputs": [],
   "source": [
    "for img_name in DS_IMAGES:\n",
    "    img = cv2.imread(str(img_name), cv2.IMREAD_GRAYSCALE)\n",
    "    annotations = ann_df[ann_df[\"Name\"] == img_name.name]\n",
    "    if len(annotations) == 0:\n",
    "        continue\n",
    "\n",
    "    mask = np.zeros_like(img)\n",
    "    # print(annotations)\n",
    "    for k, v in annotations.iterrows():\n",
    "        # print(k, v)\n",
    "        y1, y2, x1, x2 = int(v[\"y_min\"]), int(v[\"y_max\"]), int(v[\"x_min\"]), int(v[\"x_max\"])\n",
    "        mask[y1:y2, x1:x2] = 255\n",
    "\n",
    "    # print(img_name)\n",
    "    # img = img / 255\n",
    "    # mask = mask / 255\n",
    "\n",
    "    # colanshow(img, mask, fac=200)\n",
    "    b_n, ext = os.path.splitext(img_name.name)\n",
    "    cv2.imwrite(f\"../datasets/ann_images/{img_name.name}\", img)\n",
    "    cv2.imwrite(f\"../datasets/ann_masks/{b_n}_mask{ext}\", mask)\n",
    "    # break"
   ]
  },
  {
   "cell_type": "code",
   "execution_count": 50,
   "metadata": {},
   "outputs": [
    {
     "name": "stdout",
     "output_type": "stream",
     "text": [
      "../datasets/Images_coordinates/0708.1766.pdf_page_18.jpg\n",
      "Name     0708.1766.pdf_page_18.jpg\n",
      "x_min                          288\n",
      "y_min                          230\n",
      "x_max                         1408\n",
      "y_max                         1952\n",
      "Name: 11, dtype: object\n",
      "Name     0708.1766.pdf_page_18.jpg\n",
      "x_min                          292\n",
      "y_min                         1985\n",
      "x_max                         1405\n",
      "y_max                         2073\n",
      "Name: 12, dtype: object\n"
     ]
    }
   ],
   "source": [
    "img_name = DS_IMAGES[0]\n",
    "print(str(img_name))\n",
    "img = cv2.imread(str(img_name))\n",
    "annotations = ann_df[ann_df[\"Name\"] == img_name.name]\n",
    "# print(annotations)\n",
    "for k, v in annotations.iterrows():\n",
    "    print(v)"
   ]
  },
  {
   "cell_type": "code",
   "execution_count": null,
   "metadata": {},
   "outputs": [],
   "source": []
  }
 ],
 "metadata": {
  "kernelspec": {
   "display_name": "Python 3.9.7 ('venv': venv)",
   "language": "python",
   "name": "python3"
  },
  "language_info": {
   "codemirror_mode": {
    "name": "ipython",
    "version": 3
   },
   "file_extension": ".py",
   "mimetype": "text/x-python",
   "name": "python",
   "nbconvert_exporter": "python",
   "pygments_lexer": "ipython3",
   "version": "3.9.7"
  },
  "orig_nbformat": 4,
  "vscode": {
   "interpreter": {
    "hash": "8a32f5061fcf236c4e6fcbf0f08e30b66d2a94d65fcc5ab372fe6f428f3c84fb"
   }
  }
 },
 "nbformat": 4,
 "nbformat_minor": 2
}
