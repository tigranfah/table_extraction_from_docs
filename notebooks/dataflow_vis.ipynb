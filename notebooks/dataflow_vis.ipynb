{
 "cells": [
  {
   "cell_type": "code",
   "execution_count": 284,
   "metadata": {},
   "outputs": [],
   "source": [
    "import tensorflow as tf\n",
    "import numpy as np\n",
    "import matplotlib.pyplot as plt\n",
    "\n",
    "import os\n",
    "import sys\n",
    "\n",
    "sys.path.insert(0, \"../scripts\")\n",
    "\n",
    "import utils\n",
    "import vis\n",
    "\n",
    "import importlib\n",
    "importlib.reload(utils)\n",
    "importlib.reload(vis)\n",
    "\n",
    "from utils import train_test_split, image_batch_generator, get_train_augmentation, get_table_augmentation\n",
    "from utils import DATASET_PATH, DS_IMAGES, DS_MASKS\n",
    "# from models import TableNet, load_light_unet\n",
    "# import models\n",
    "from vis import imshow, anshow, colanshow\n",
    "# importlib.reload(models)"
   ]
  },
  {
   "cell_type": "code",
   "execution_count": 285,
   "metadata": {},
   "outputs": [],
   "source": [
    "IMAGE_NAMES = os.listdir(DS_IMAGES)"
   ]
  },
  {
   "cell_type": "code",
   "execution_count": 286,
   "metadata": {},
   "outputs": [],
   "source": [
    "train_names, test_names = train_test_split(IMAGE_NAMES, shuffle=True, test_size=0.2)"
   ]
  },
  {
   "cell_type": "code",
   "execution_count": 287,
   "metadata": {},
   "outputs": [],
   "source": [
    "train_augmentation = get_train_augmentation()\n",
    "import cv2"
   ]
  },
  {
   "cell_type": "code",
   "execution_count": 288,
   "metadata": {},
   "outputs": [
    {
     "name": "stdout",
     "output_type": "stream",
     "text": [
      "X 54.0 249.0\n",
      "X 16.0 249.0\n",
      "X 0.0 255.0\n",
      "X 0.0 255.0\n"
     ]
    }
   ],
   "source": [
    "for i, (batch_X, batch_y) in enumerate(utils.random_batch_generator( \n",
    "                            batch_size=2,\n",
    "                            resize_shape=(512, 512),\n",
    "                            train_names=train_names,\n",
    "                            train_aug_transform=train_augmentation,\n",
    "                            normalize=False,\n",
    "                            include_edges_as_band=True,\n",
    "                            table_aug_transform=get_table_augmentation(),\n",
    "                            max_tables_on_image=6\n",
    "                        )):\n",
    "\n",
    "    for ind, (X, y) in enumerate(zip(batch_X, batch_y)):\n",
    "        # X = cv2.Canny(X, 10, 100)\n",
    "        print(\"X\", X[:, :, 0].min(), X[:, :, 0].max())\n",
    "        print(\"X\", X[:, :, 1].min(), X[:, :, 1].max())\n",
    "        cv2.imwrite(f\"sample_{ind}.png\", X[:, :, 0])\n",
    "        # colanshow(X[:, :, 0], y, fac=20)\n",
    "        # cv2.imwrite(f\"{i}_sample_{ind}.png\", X[:, :, 0])\n",
    "        cv2.imwrite(f\"sample_canny_{ind}.png\", X[:, :, 1])\n",
    "        cv2.imwrite(f\"sample_mask_{ind}.png\", y)\n",
    "    break"
   ]
  },
  {
   "cell_type": "code",
   "execution_count": 243,
   "metadata": {},
   "outputs": [
    {
     "name": "stdout",
     "output_type": "stream",
     "text": [
      "255.0 0.0\n",
      "255.0 0.0\n"
     ]
    }
   ],
   "source": [
    "sum = 0\n",
    "for batch_X, batch_y in image_batch_generator(train_names, batch_size=2, \n",
    "                            resize_shape=(512, 512), \n",
    "                            aug_transform=train_augmentation,\n",
    "                            normalize=False, include_edges_as_band=True):\n",
    "    # print(X.shape, y.shape)\n",
    "    # sum += X.shape[0]\n",
    "    for ind, (X, y) in enumerate(zip(batch_X, batch_y)):\n",
    "        # print(X.shape)\n",
    "        cv2.imwrite(f\"sample_{ind}.png\", X[:, :, 0])\n",
    "        print(X[:, :, 0].max(), X[:, :, 1].min())\n",
    "        cv2.imwrite(f\"sample_canny_{ind}.png\", X[:, :, 1])\n",
    "    break"
   ]
  },
  {
   "cell_type": "code",
   "execution_count": null,
   "metadata": {},
   "outputs": [],
   "source": []
  },
  {
   "cell_type": "code",
   "execution_count": 200,
   "metadata": {},
   "outputs": [
    {
     "ename": "NameError",
     "evalue": "name 'model' is not defined",
     "output_type": "error",
     "traceback": [
      "\u001b[0;31m---------------------------------------------------------------------------\u001b[0m",
      "\u001b[0;31mNameError\u001b[0m                                 Traceback (most recent call last)",
      "\u001b[1;32m/home/cseadmin/Tigran/table_extractor/notebooks/dataflow_vis.ipynb Cell 7\u001b[0m in \u001b[0;36m<cell line: 1>\u001b[0;34m()\u001b[0m\n\u001b[0;32m----> <a href='vscode-notebook-cell:/home/cseadmin/Tigran/table_extractor/notebooks/dataflow_vis.ipynb#ch0000006?line=0'>1</a>\u001b[0m model\u001b[39m.\u001b[39msummary()\n",
      "\u001b[0;31mNameError\u001b[0m: name 'model' is not defined"
     ]
    }
   ],
   "source": [
    "model.summary()"
   ]
  },
  {
   "cell_type": "code",
   "execution_count": null,
   "metadata": {},
   "outputs": [],
   "source": []
  }
 ],
 "metadata": {
  "kernelspec": {
   "display_name": "Python 3.9.7 ('venv': venv)",
   "language": "python",
   "name": "python3"
  },
  "language_info": {
   "codemirror_mode": {
    "name": "ipython",
    "version": 3
   },
   "file_extension": ".py",
   "mimetype": "text/x-python",
   "name": "python",
   "nbconvert_exporter": "python",
   "pygments_lexer": "ipython3",
   "version": "3.9.7"
  },
  "orig_nbformat": 4,
  "vscode": {
   "interpreter": {
    "hash": "8a32f5061fcf236c4e6fcbf0f08e30b66d2a94d65fcc5ab372fe6f428f3c84fb"
   }
  }
 },
 "nbformat": 4,
 "nbformat_minor": 2
}
