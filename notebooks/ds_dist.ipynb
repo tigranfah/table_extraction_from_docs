{
 "cells": [
  {
   "cell_type": "code",
   "execution_count": 41,
   "metadata": {},
   "outputs": [
    {
     "data": {
      "text/plain": [
       "<module 'metrics' from '/home/cseadmin/Tigran/table_extractor/notebooks/../scripts/metrics.py'>"
      ]
     },
     "execution_count": 41,
     "metadata": {},
     "output_type": "execute_result"
    }
   ],
   "source": [
    "import tensorflow as tf\n",
    "import numpy as np\n",
    "import matplotlib.pyplot as plt\n",
    "\n",
    "import os\n",
    "from datetime import datetime\n",
    "import sys\n",
    "\n",
    "sys.path.insert(0, \"../scripts/\")\n",
    "\n",
    "from utils import train_test_split, image_batch_generator, get_train_augmentation, random_batch_generator, get_table_augmentation\n",
    "from utils import DATASET_PATH, DS_IMAGES, PAGE_IMAGES, DS_MASKS, SaveValidSamplesCallback\n",
    "import utils\n",
    "from metrics import dice_coef, iou, f1_score, jaccard_distance\n",
    "import metrics\n",
    "from vis import anshow, imshow\n",
    "from models import TableNet, att_unet, load_unet_model\n",
    "\n",
    "import importlib\n",
    "importlib.reload(utils)\n",
    "importlib.reload(metrics)"
   ]
  },
  {
   "cell_type": "code",
   "execution_count": 27,
   "metadata": {},
   "outputs": [],
   "source": [
    "IMAGE_NAMES = os.listdir(utils.DS_IMAGES)"
   ]
  },
  {
   "cell_type": "code",
   "execution_count": 28,
   "metadata": {},
   "outputs": [
    {
     "ename": "KeyboardInterrupt",
     "evalue": "",
     "output_type": "error",
     "traceback": [
      "\u001b[0;31m---------------------------------------------------------------------------\u001b[0m",
      "\u001b[0;31mKeyboardInterrupt\u001b[0m                         Traceback (most recent call last)",
      "\u001b[1;32m/home/cseadmin/Tigran/table_extractor/notebooks/ds_dist.ipynb Cell 3\u001b[0m in \u001b[0;36m<cell line: 4>\u001b[0;34m()\u001b[0m\n\u001b[1;32m      <a href='vscode-notebook-cell:/home/cseadmin/Tigran/table_extractor/notebooks/ds_dist.ipynb#ch0000001?line=0'>1</a>\u001b[0m band_sum \u001b[39m=\u001b[39m \u001b[39m0\u001b[39m\n\u001b[1;32m      <a href='vscode-notebook-cell:/home/cseadmin/Tigran/table_extractor/notebooks/ds_dist.ipynb#ch0000001?line=1'>2</a>\u001b[0m sample_count \u001b[39m=\u001b[39m \u001b[39m0\u001b[39m\n\u001b[0;32m----> <a href='vscode-notebook-cell:/home/cseadmin/Tigran/table_extractor/notebooks/ds_dist.ipynb#ch0000001?line=3'>4</a>\u001b[0m \u001b[39mfor\u001b[39;00m i, (batch_X, batch_y) \u001b[39min\u001b[39;00m \u001b[39menumerate\u001b[39m(image_batch_generator(IMAGE_NAMES, \u001b[39m128\u001b[39m, (\u001b[39m512\u001b[39m, \u001b[39m512\u001b[39m), normalize\u001b[39m=\u001b[39m\u001b[39mFalse\u001b[39;00m)):\n\u001b[1;32m      <a href='vscode-notebook-cell:/home/cseadmin/Tigran/table_extractor/notebooks/ds_dist.ipynb#ch0000001?line=4'>5</a>\u001b[0m     band_sum \u001b[39m+\u001b[39m\u001b[39m=\u001b[39m np\u001b[39m.\u001b[39msum(batch_X)\n\u001b[1;32m      <a href='vscode-notebook-cell:/home/cseadmin/Tigran/table_extractor/notebooks/ds_dist.ipynb#ch0000001?line=5'>6</a>\u001b[0m     sample_count \u001b[39m+\u001b[39m\u001b[39m=\u001b[39m \u001b[39m128\u001b[39m \u001b[39m*\u001b[39m \u001b[39m512\u001b[39m \u001b[39m*\u001b[39m \u001b[39m512\u001b[39m\n",
      "File \u001b[0;32m~/Tigran/table_extractor/notebooks/../scripts/utils.py:241\u001b[0m, in \u001b[0;36mimage_batch_generator\u001b[0;34m(image_names, batch_size, resize_shape, normalize, aug_transform, include_edges_as_band)\u001b[0m\n\u001b[1;32m    239\u001b[0m batch_X, batch_y \u001b[39m=\u001b[39m [], []\n\u001b[1;32m    240\u001b[0m \u001b[39mfor\u001b[39;00m i, image_name \u001b[39min\u001b[39;00m \u001b[39menumerate\u001b[39m(image_names):\n\u001b[0;32m--> 241\u001b[0m     img, mask \u001b[39m=\u001b[39m read_sample(image_name, resize_shape)\n\u001b[1;32m    243\u001b[0m     \u001b[39mif\u001b[39;00m include_edges_as_band:\n\u001b[1;32m    244\u001b[0m         edges \u001b[39m=\u001b[39m cv2\u001b[39m.\u001b[39mbitwise_not(cv2\u001b[39m.\u001b[39mCanny(img, \u001b[39m1\u001b[39m, \u001b[39m10\u001b[39m))\n",
      "File \u001b[0;32m~/Tigran/table_extractor/notebooks/../scripts/utils.py:116\u001b[0m, in \u001b[0;36mread_sample\u001b[0;34m(image_name, resize_shape)\u001b[0m\n\u001b[1;32m    113\u001b[0m \u001b[39melse\u001b[39;00m:\n\u001b[1;32m    114\u001b[0m     mask \u001b[39m=\u001b[39m np\u001b[39m.\u001b[39mzeros(resize_shape)\u001b[39m.\u001b[39mastype(np\u001b[39m.\u001b[39muint8)\n\u001b[0;32m--> 116\u001b[0m img \u001b[39m=\u001b[39m cv2\u001b[39m.\u001b[39;49mresize(img, resize_shape, interpolation\u001b[39m=\u001b[39;49mcv2\u001b[39m.\u001b[39;49mINTER_AREA)\n\u001b[1;32m    117\u001b[0m mask \u001b[39m=\u001b[39m cv2\u001b[39m.\u001b[39mresize(mask, resize_shape, interpolation\u001b[39m=\u001b[39mcv2\u001b[39m.\u001b[39mINTER_AREA)\n\u001b[1;32m    119\u001b[0m \u001b[39m# rgb_img = np.moveaxis(np.array([img, img, img]), 0, -1)\u001b[39;00m\n",
      "\u001b[0;31mKeyboardInterrupt\u001b[0m: "
     ]
    }
   ],
   "source": [
    "band_sum = 0\n",
    "sample_count = 0\n",
    "\n",
    "for i, (batch_X, batch_y) in enumerate(image_batch_generator(IMAGE_NAMES, 128, (512, 512), normalize=False)):\n",
    "    band_sum += np.sum(batch_X)\n",
    "    sample_count += 128 * 512 * 512\n",
    "    print(f\"{i+1}/{len(IMAGE_NAMES)//128}\", end='\\r')\n",
    "    if (i + 1) >= len(IMAGE_NAMES)//128:\n",
    "        break"
   ]
  },
  {
   "cell_type": "code",
   "execution_count": 24,
   "metadata": {},
   "outputs": [
    {
     "data": {
      "text/plain": [
       "243.42809057235718"
      ]
     },
     "execution_count": 24,
     "metadata": {},
     "output_type": "execute_result"
    }
   ],
   "source": [
    "band_sum / sample_count"
   ]
  },
  {
   "cell_type": "code",
   "execution_count": 40,
   "metadata": {},
   "outputs": [
    {
     "name": "stdout",
     "output_type": "stream",
     "text": [
      "0.0 255.0\n"
     ]
    }
   ],
   "source": [
    "for i, (batch_X, batch_y) in enumerate(image_batch_generator(IMAGE_NAMES, 1, (512, 512), normalize=True, include_edges_as_band=True)):\n",
    "    print(batch_X[0][:, :, 0].min(), batch_X[0][:, :, 0].max())\n",
    "    break"
   ]
  },
  {
   "cell_type": "code",
   "execution_count": null,
   "metadata": {},
   "outputs": [],
   "source": []
  }
 ],
 "metadata": {
  "kernelspec": {
   "display_name": "Python 3.9.7 ('venv': venv)",
   "language": "python",
   "name": "python3"
  },
  "language_info": {
   "codemirror_mode": {
    "name": "ipython",
    "version": 3
   },
   "file_extension": ".py",
   "mimetype": "text/x-python",
   "name": "python",
   "nbconvert_exporter": "python",
   "pygments_lexer": "ipython3",
   "version": "3.9.7"
  },
  "orig_nbformat": 4,
  "vscode": {
   "interpreter": {
    "hash": "8a32f5061fcf236c4e6fcbf0f08e30b66d2a94d65fcc5ab372fe6f428f3c84fb"
   }
  }
 },
 "nbformat": 4,
 "nbformat_minor": 2
}
