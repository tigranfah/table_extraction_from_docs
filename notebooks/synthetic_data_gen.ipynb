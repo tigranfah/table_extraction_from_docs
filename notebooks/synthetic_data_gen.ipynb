{
 "cells": [
  {
   "cell_type": "code",
   "execution_count": 145,
   "metadata": {},
   "outputs": [],
   "source": [
    "import numpy as np\n",
    "import cv2\n",
    "from pathlib import Path\n",
    "import matplotlib.pyplot as plt\n",
    "from PIL import Image\n",
    "import math\n",
    "import random\n",
    "import os\n",
    "import pandas as pd"
   ]
  },
  {
   "cell_type": "code",
   "execution_count": 60,
   "metadata": {},
   "outputs": [],
   "source": [
    "import sys\n",
    "DATASET_DIR = \"../datasets/\""
   ]
  },
  {
   "cell_type": "code",
   "execution_count": 87,
   "metadata": {},
   "outputs": [],
   "source": [
    "df_ann = pd.DataFrame(columns=[\"image\", \"mask\"])"
   ]
  },
  {
   "cell_type": "code",
   "execution_count": 88,
   "metadata": {},
   "outputs": [
    {
     "data": {
      "text/html": [
       "<div>\n",
       "<style scoped>\n",
       "    .dataframe tbody tr th:only-of-type {\n",
       "        vertical-align: middle;\n",
       "    }\n",
       "\n",
       "    .dataframe tbody tr th {\n",
       "        vertical-align: top;\n",
       "    }\n",
       "\n",
       "    .dataframe thead th {\n",
       "        text-align: right;\n",
       "    }\n",
       "</style>\n",
       "<table border=\"1\" class=\"dataframe\">\n",
       "  <thead>\n",
       "    <tr style=\"text-align: right;\">\n",
       "      <th></th>\n",
       "      <th>image</th>\n",
       "      <th>mask</th>\n",
       "    </tr>\n",
       "  </thead>\n",
       "  <tbody>\n",
       "  </tbody>\n",
       "</table>\n",
       "</div>"
      ],
      "text/plain": [
       "Empty DataFrame\n",
       "Columns: [image, mask]\n",
       "Index: []"
      ]
     },
     "execution_count": 88,
     "metadata": {},
     "output_type": "execute_result"
    }
   ],
   "source": [
    "df_ann"
   ]
  },
  {
   "cell_type": "code",
   "execution_count": 79,
   "metadata": {},
   "outputs": [],
   "source": [
    "import warnings\n",
    "warnings.filterwarnings('ignore')"
   ]
  },
  {
   "cell_type": "code",
   "execution_count": 136,
   "metadata": {},
   "outputs": [],
   "source": [
    "image_names = list(Path(DATASET_DIR + \"Pages\").glob(\"*\"))"
   ]
  },
  {
   "cell_type": "code",
   "execution_count": 140,
   "metadata": {},
   "outputs": [
    {
     "name": "stdout",
     "output_type": "stream",
     "text": [
      "0 255\n"
     ]
    }
   ],
   "source": [
    "# for img_path in Path(DATASET_DIR + \"tables\").glob(\"*\"):\n",
    "# image = cv2.imread(\"/home/cseadmin/Tigran/table_extractor/datasets/Pages/001.pdf_page_0.jpg\", cv2.IMREAD_GRAYSCALE)\n",
    "image = cv2.imread(str(image_names[2]), cv2.IMREAD_GRAYSCALE)\n",
    "\n",
    "# Use canny edge detection\n",
    "edges = cv2.Canny(image, 50, 200, None, 3)\n",
    "\n",
    "print(edges.min(), edges.max())\n",
    "Image.fromarray(edges).show()"
   ]
  },
  {
   "cell_type": "code",
   "execution_count": 143,
   "metadata": {},
   "outputs": [],
   "source": [
    "table_names = os.listdir(DATASET_DIR + \"tables\")\n",
    "pdf_page_names = os.listdir(DATASET_DIR + \"Pages\")"
   ]
  },
  {
   "cell_type": "code",
   "execution_count": 154,
   "metadata": {},
   "outputs": [],
   "source": [
    "batch_X, batch_y = [], []\n",
    "while True:\n",
    "\n",
    "    random_table_name = table_names[random.randint(0, len(table_names))]\n",
    "    random_page_name = pdf_page_names[random.randint(0, len(pdf_page_names))]\n",
    "\n",
    "    table_img = cv2.imread(\"../datasets/tables/\" + random_table_name, cv2.IMREAD_GRAYSCALE)\n",
    "    page_img = cv2.imread(\"../datasets/Pages/\" + random_page_name, cv2.IMREAD_GRAYSCALE)\n",
    "\n",
    "    current_possible_pos = []\n",
    "    if table_img.shape[0] > page_img.shape[0] or table_img.shape[1] > page_img.shape[1]:\n",
    "        continue\n",
    "\n",
    "    for i in range(0, page_img.shape[0] - table_img.shape[0], 10):\n",
    "        for j in range(0, page_img.shape[1] - table_img.shape[1], 10):\n",
    "            if np.all(page_img[i:i+table_img.shape[0], j:j+table_img.shape[1]] == 255):\n",
    "                current_possible_pos.append((i, j))\n",
    "\n",
    "    if len(current_possible_pos) > 0:\n",
    "        rand_ind = np.random.choice(np.arange(len(current_possible_pos)))\n",
    "        y, x = current_possible_pos[rand_ind]\n",
    "        page_img[y:y+table_img.shape[0], x:x+table_img.shape[1]] = table_img\n",
    "        batch_X.append(page_img)\n",
    "        mask = np.zeros_like(page_img)\n",
    "        mask[y:y+table_img.shape[0], x:x+table_img.shape[1]] = 255\n",
    "        batch_y.append(mask)\n",
    "\n",
    "    if len(batch_X) == 2:\n",
    "        break"
   ]
  },
  {
   "cell_type": "code",
   "execution_count": 155,
   "metadata": {},
   "outputs": [],
   "source": [
    "Image.fromarray(batch_X[1]).show()\n",
    "Image.fromarray(batch_y[1]).show()"
   ]
  },
  {
   "cell_type": "code",
   "execution_count": 86,
   "metadata": {},
   "outputs": [
    {
     "name": "stdout",
     "output_type": "stream",
     "text": [
      "Saved Abdulaziz-Bayindir-Kuran-Isiginda-tarikatciliga-Bakis.pdf_page_193_31_44_0 - 421/2913291339132913291313\r"
     ]
    },
    {
     "ename": "KeyboardInterrupt",
     "evalue": "",
     "output_type": "error",
     "traceback": [
      "\u001b[0;31m---------------------------------------------------------------------------\u001b[0m",
      "\u001b[0;31mKeyboardInterrupt\u001b[0m                         Traceback (most recent call last)",
      "\u001b[1;32m/home/cseadmin/Tigran/table_extractor/notebooks/synthetic_data_gen.ipynb Cell 6\u001b[0m in \u001b[0;36m<cell line: 3>\u001b[0;34m()\u001b[0m\n\u001b[1;32m     <a href='vscode-notebook-cell:/home/cseadmin/Tigran/table_extractor/notebooks/synthetic_data_gen.ipynb#ch0000002?line=15'>16</a>\u001b[0m \u001b[39mif\u001b[39;00m page_img\u001b[39m.\u001b[39mshape[\u001b[39m0\u001b[39m]\u001b[39m<\u001b[39mtable_img\u001b[39m.\u001b[39mshape[\u001b[39m0\u001b[39m] \u001b[39mor\u001b[39;00m page_img\u001b[39m.\u001b[39mshape[\u001b[39m1\u001b[39m]\u001b[39m<\u001b[39mtable_img\u001b[39m.\u001b[39mshape[\u001b[39m1\u001b[39m]: \u001b[39mcontinue\u001b[39;00m\n\u001b[1;32m     <a href='vscode-notebook-cell:/home/cseadmin/Tigran/table_extractor/notebooks/synthetic_data_gen.ipynb#ch0000002?line=16'>17</a>\u001b[0m temp \u001b[39m=\u001b[39m np\u001b[39m.\u001b[39mones((table_img\u001b[39m.\u001b[39mshape[\u001b[39m0\u001b[39m], table_img\u001b[39m.\u001b[39mshape[\u001b[39m1\u001b[39m]))\u001b[39m.\u001b[39mastype(np\u001b[39m.\u001b[39muint8) \u001b[39m*\u001b[39m \u001b[39m255\u001b[39m\n\u001b[0;32m---> <a href='vscode-notebook-cell:/home/cseadmin/Tigran/table_extractor/notebooks/synthetic_data_gen.ipynb#ch0000002?line=17'>18</a>\u001b[0m res \u001b[39m=\u001b[39m cv2\u001b[39m.\u001b[39;49mmatchTemplate(page_img, temp, method\u001b[39m=\u001b[39;49mcv2\u001b[39m.\u001b[39;49mTM_CCORR_NORMED)\n\u001b[1;32m     <a href='vscode-notebook-cell:/home/cseadmin/Tigran/table_extractor/notebooks/synthetic_data_gen.ipynb#ch0000002?line=18'>19</a>\u001b[0m min_val, max_val, min_loc, max_loc \u001b[39m=\u001b[39m cv2\u001b[39m.\u001b[39mminMaxLoc(res)\n\u001b[1;32m     <a href='vscode-notebook-cell:/home/cseadmin/Tigran/table_extractor/notebooks/synthetic_data_gen.ipynb#ch0000002?line=19'>20</a>\u001b[0m start_x, start_y \u001b[39m=\u001b[39m max_loc\n",
      "\u001b[0;31mKeyboardInterrupt\u001b[0m: "
     ]
    }
   ],
   "source": [
    "for i, table_img_path in enumerate(Path(DATASET_DIR + \"tables\").glob(\"*\")):\n",
    "    table_img = cv2.imread(str(table_img_path), cv2.IMREAD_GRAYSCALE)\n",
    "    table_bn, ex = os.path.splitext(table_img_path.name)\n",
    "    if (table_img.shape[0] < 600 and table_img.shape[1] < 600):\n",
    "        continue\n",
    "    # ran = np.arange(0.9, 1.1, 0.05)\n",
    "    # fig, ax = plt.subplots(len(ran), 1, figsize=(40, 40))\n",
    "    # for i, scale in enumerate(ran):\n",
    "    #     scaled_h, scaled_w = int(table_img.shape[0] * scale), int(table_img.shape[1] * scale)\n",
    "    #     scaled_img = cv2.resize(table_img, (scaled_h, scaled_w), cv2.INTER_AREA)\n",
    "        # ax[i].imshow(scaled_img)\n",
    "    for page_path in Path(DATASET_DIR + \"Pages\").glob(\"*\"):\n",
    "        page_img = cv2.imread(str(page_path), cv2.IMREAD_GRAYSCALE)\n",
    "        if page_img.shape[0]<table_img.shape[0] or page_img.shape[1]<table_img.shape[1]: continue\n",
    "        temp = np.ones((table_img.shape[0], table_img.shape[1])).astype(np.uint8) * 255\n",
    "        res = cv2.matchTemplate(page_img, temp, method=cv2.TM_CCORR_NORMED)\n",
    "        min_val, max_val, min_loc, max_loc = cv2.minMaxLoc(res)\n",
    "        start_x, start_y = max_loc\n",
    "        end_x, end_y = (start_x + temp.shape[1], start_y + temp.shape[0])\n",
    "        # print(start_x, start_y, end_x, end_y)\n",
    "        if not np.all(page_img[start_y:end_y, start_x:end_x] == 255): continue\n",
    "        page_img[start_y:end_y, start_x:end_x] = table_img\n",
    "        # Image.fromarray(page_img).show()\n",
    "        mask = np.zeros_like(page_img)\n",
    "        mask[start_y:end_y, start_x:end_x] = 255\n",
    "        b_n, ext = os.path.splitext(page_path.name)\n",
    "        Image.fromarray(page_img).save(f\"{DATASET_DIR}synthetic_images/{b_n}_{table_bn}.jpg\")\n",
    "        df_ann = df_ann.append(\n",
    "            {\"image\" : f\"{b_n}_{table_bn}.jpg\", \"mask\":[start_x, end_x, start_y, end_y]},\n",
    "            ignore_index=True\n",
    "        )\n",
    "        # Image.fromarray(mask).save(f\"{DATASET_DIR}synthetic_masks/{b_n}_{table_bn}_mask.png\")\n",
    "        print(f\"Saved {b_n}_{table_bn} - {i+1}/{len(os.listdir(DATASET_DIR + 'tables'))}\", end='\\r')\n",
    "        # break\n",
    "\n",
    "    # break"
   ]
  },
  {
   "cell_type": "code",
   "execution_count": 71,
   "metadata": {},
   "outputs": [
    {
     "data": {
      "text/html": [
       "<div>\n",
       "<style scoped>\n",
       "    .dataframe tbody tr th:only-of-type {\n",
       "        vertical-align: middle;\n",
       "    }\n",
       "\n",
       "    .dataframe tbody tr th {\n",
       "        vertical-align: top;\n",
       "    }\n",
       "\n",
       "    .dataframe thead th {\n",
       "        text-align: right;\n",
       "    }\n",
       "</style>\n",
       "<table border=\"1\" class=\"dataframe\">\n",
       "  <thead>\n",
       "    <tr style=\"text-align: right;\">\n",
       "      <th></th>\n",
       "      <th>image</th>\n",
       "      <th>mask</th>\n",
       "    </tr>\n",
       "  </thead>\n",
       "  <tbody>\n",
       "    <tr>\n",
       "      <th>0</th>\n",
       "      <td>Abdulaziz-Bayindir-Kuran-Isiginda-tarikatcilig...</td>\n",
       "      <td>[295, 932, 14, 170]</td>\n",
       "    </tr>\n",
       "  </tbody>\n",
       "</table>\n",
       "</div>"
      ],
      "text/plain": [
       "                                               image                 mask\n",
       "0  Abdulaziz-Bayindir-Kuran-Isiginda-tarikatcilig...  [295, 932, 14, 170]"
      ]
     },
     "execution_count": 71,
     "metadata": {},
     "output_type": "execute_result"
    }
   ],
   "source": [
    "df_ann"
   ]
  },
  {
   "cell_type": "code",
   "execution_count": 33,
   "metadata": {},
   "outputs": [
    {
     "name": "stdout",
     "output_type": "stream",
     "text": [
      "0 1442 1600 2142\n"
     ]
    }
   ],
   "source": [
    "W, H = 1600, 700\n",
    "\n",
    "for page_path in Path(DATASET_DIR + \"Pages\").glob(\"*\"):\n",
    "    page_img = cv2.imread(str(page_path), cv2.IMREAD_GRAYSCALE)\n",
    "    temp = np.ones((H, W)).astype(np.uint8) * 255\n",
    "    res = cv2.matchTemplate(page_img, temp, method=cv2.TM_CCORR_NORMED)\n",
    "    min_val, max_val, min_loc, max_loc = cv2.minMaxLoc(res)\n",
    "    start_x, start_y = max_loc\n",
    "    end_x, end_y = (start_x + temp.shape[1], start_y + temp.shape[0])\n",
    "    print(start_x, start_y, end_x, end_y)\n",
    "    page_img[start_y:end_y, start_x:end_x] = temp\n",
    "    # page_img = cv2.rectangle(page_img, (start_x, start_y), (end_x, end_y), 0,5)\n",
    "\n",
    "    Image.fromarray(page_img).show()\n",
    "    break"
   ]
  },
  {
   "cell_type": "code",
   "execution_count": null,
   "metadata": {},
   "outputs": [],
   "source": []
  }
 ],
 "metadata": {
  "kernelspec": {
   "display_name": "Python 3.9.7 ('venv': venv)",
   "language": "python",
   "name": "python3"
  },
  "language_info": {
   "codemirror_mode": {
    "name": "ipython",
    "version": 3
   },
   "file_extension": ".py",
   "mimetype": "text/x-python",
   "name": "python",
   "nbconvert_exporter": "python",
   "pygments_lexer": "ipython3",
   "version": "3.9.7"
  },
  "orig_nbformat": 4,
  "vscode": {
   "interpreter": {
    "hash": "8a32f5061fcf236c4e6fcbf0f08e30b66d2a94d65fcc5ab372fe6f428f3c84fb"
   }
  }
 },
 "nbformat": 4,
 "nbformat_minor": 2
}
