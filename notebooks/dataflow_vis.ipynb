{
 "cells": [
  {
   "cell_type": "code",
   "execution_count": 185,
   "metadata": {},
   "outputs": [
    {
     "data": {
      "text/plain": [
       "<module 'vis' from '/home/cseadmin/Tigran/table_extractor/notebooks/../scripts/vis.py'>"
      ]
     },
     "execution_count": 185,
     "metadata": {},
     "output_type": "execute_result"
    }
   ],
   "source": [
    "from random import shuffle\n",
    "import tensorflow as tf\n",
    "import numpy as np\n",
    "import matplotlib.pyplot as plt\n",
    "\n",
    "import os\n",
    "import sys\n",
    "\n",
    "sys.path.insert(0, \"../scripts\")\n",
    "\n",
    "\n",
    "from utils import train_test_split, image_batch_generator, get_train_augmentation, apply_augmentation, get_table_augmentation\n",
    "from utils import DATASET_PATH, DS_IMAGES, DS_MASKS\n",
    "import utils\n",
    "# from models import TableNet, load_light_unet\n",
    "# import models\n",
    "from vis import imshow, anshow, colanshow\n",
    "import vis\n",
    "\n",
    "import importlib\n",
    "importlib.reload(utils)\n",
    "importlib.reload(vis)\n",
    "# importlib.reload(models)"
   ]
  },
  {
   "cell_type": "code",
   "execution_count": 186,
   "metadata": {},
   "outputs": [],
   "source": [
    "IMAGE_NAMES = os.listdir(DS_IMAGES)"
   ]
  },
  {
   "cell_type": "code",
   "execution_count": 187,
   "metadata": {},
   "outputs": [],
   "source": [
    "train_names, test_names = train_test_split(IMAGE_NAMES, shuffle=True, test_size=0.2)"
   ]
  },
  {
   "cell_type": "code",
   "execution_count": 188,
   "metadata": {},
   "outputs": [],
   "source": [
    "train_augmentation = get_train_augmentation()\n",
    "import cv2"
   ]
  },
  {
   "cell_type": "code",
   "execution_count": 191,
   "metadata": {},
   "outputs": [],
   "source": [
    "for i, (batch_X, batch_y) in enumerate(utils.random_batch_generator( \n",
    "                            batch_size=16,\n",
    "                            resize_shape=(512, 512),\n",
    "                            train_names=train_names,\n",
    "                            train_aug_transform=train_augmentation,\n",
    "                            normalize=True,\n",
    "                            include_edges_as_band=True,\n",
    "                            table_aug_transform=get_table_augmentation(),\n",
    "                            max_tables_on_image=6\n",
    "                        )):\n",
    "\n",
    "    for ind, (X, y) in enumerate(zip(batch_X, batch_y)):\n",
    "        # X = cv2.Canny(X, 10, 100)\n",
    "        # print(\"X\", X[:, :, 0].min(), X[:, :, 0].max())\n",
    "        # cv2.imwrite(f\"sample_{i}.png\", X[:, :, 1])\n",
    "        colanshow(X[:, :, 0], y, fac=20)\n",
    "        # cv2.imwrite(f\"{i}_sample_{ind}.png\", X[:, :, 0])\n",
    "        # cv2.imwrite(f\"{i}_sample_canny_{ind}.png\", X[:, :, 1])\n",
    "        # cv2.imwrite(f\"{i}_sample_mask_{ind}.png\", y)\n",
    "    break"
   ]
  },
  {
   "cell_type": "code",
   "execution_count": 101,
   "metadata": {},
   "outputs": [
    {
     "name": "stdout",
     "output_type": "stream",
     "text": [
      "1.0 1.0\n"
     ]
    }
   ],
   "source": [
    "sum = 0\n",
    "for X, y in image_batch_generator(train_names, batch_size=1, \n",
    "                            resize_shape=(512, 512), \n",
    "                            aug_transform=train_augmentation,\n",
    "                            normalize=True, include_edges_as_band=True):\n",
    "    # print(X.shape, y.shape)\n",
    "    # sum += X.shape[0]\n",
    "    # cv2.imwrite(f\"sample_{i}.png\", X[:, :, 0])\n",
    "    print(X[:, :, 0].max(), X[:, :, 1].min())\n",
    "    # cv2.imwrite(f\"sample_canny_{i}.png\", X[:, :, 1])\n",
    "    break"
   ]
  },
  {
   "cell_type": "code",
   "execution_count": 51,
   "metadata": {},
   "outputs": [
    {
     "name": "stdout",
     "output_type": "stream",
     "text": [
      "Model: \"tablenet\"\n",
      "__________________________________________________________________________________________________\n",
      " Layer (type)                   Output Shape         Param #     Connected to                     \n",
      "==================================================================================================\n",
      " input (InputLayer)             [(None, 512, 512, 3  0           []                               \n",
      "                                )]                                                                \n",
      "                                                                                                  \n",
      " VGG-19 (Functional)            [(None, 64, 64, 256  20024384    ['input[0][0]']                  \n",
      "                                ),                                                                \n",
      "                                 (None, 32, 32, 512                                               \n",
      "                                ),                                                                \n",
      "                                 (None, 16, 16, 512                                               \n",
      "                                )]                                                                \n",
      "                                                                                                  \n",
      " block6_conv1 (Conv2D)          (None, 16, 16, 512)  262656      ['VGG-19[0][2]']                 \n",
      "                                                                                                  \n",
      " block6_dropout1 (Dropout)      (None, 16, 16, 512)  0           ['block6_conv1[0][0]']           \n",
      "                                                                                                  \n",
      " block6_conv2 (Conv2D)          (None, 16, 16, 512)  262656      ['block6_dropout1[0][0]']        \n",
      "                                                                                                  \n",
      " block6_dropout2 (Dropout)      (None, 16, 16, 512)  0           ['block6_conv2[0][0]']           \n",
      "                                                                                                  \n",
      " block7_conv1_column (Conv2D)   (None, 16, 16, 512)  262656      ['block6_dropout2[0][0]']        \n",
      "                                                                                                  \n",
      " block7_dropout_column (Dropout  (None, 16, 16, 512)  0          ['block7_conv1_column[0][0]']    \n",
      " )                                                                                                \n",
      "                                                                                                  \n",
      " conv7_table (Conv2D)           (None, 16, 16, 512)  262656      ['block6_dropout2[0][0]']        \n",
      "                                                                                                  \n",
      " block8_conv1_column (Conv2D)   (None, 16, 16, 512)  262656      ['block7_dropout_column[0][0]']  \n",
      "                                                                                                  \n",
      " up_sampling2d (UpSampling2D)   (None, 32, 32, 512)  0           ['conv7_table[0][0]']            \n",
      "                                                                                                  \n",
      " up_sampling2d_4 (UpSampling2D)  (None, 32, 32, 512)  0          ['block8_conv1_column[0][0]']    \n",
      "                                                                                                  \n",
      " concatenate (Concatenate)      (None, 32, 32, 1024  0           ['up_sampling2d[0][0]',          \n",
      "                                )                                 'VGG-19[0][1]']                 \n",
      "                                                                                                  \n",
      " concatenate_2 (Concatenate)    (None, 32, 32, 1024  0           ['up_sampling2d_4[0][0]',        \n",
      "                                )                                 'VGG-19[0][1]']                 \n",
      "                                                                                                  \n",
      " up_sampling2d_1 (UpSampling2D)  (None, 64, 64, 1024  0          ['concatenate[0][0]']            \n",
      "                                )                                                                 \n",
      "                                                                                                  \n",
      " up_sampling2d_5 (UpSampling2D)  (None, 64, 64, 1024  0          ['concatenate_2[0][0]']          \n",
      "                                )                                                                 \n",
      "                                                                                                  \n",
      " concatenate_1 (Concatenate)    (None, 64, 64, 1280  0           ['up_sampling2d_1[0][0]',        \n",
      "                                )                                 'VGG-19[0][0]']                 \n",
      "                                                                                                  \n",
      " concatenate_3 (Concatenate)    (None, 64, 64, 1280  0           ['up_sampling2d_5[0][0]',        \n",
      "                                )                                 'VGG-19[0][0]']                 \n",
      "                                                                                                  \n",
      " up_sampling2d_2 (UpSampling2D)  (None, 128, 128, 12  0          ['concatenate_1[0][0]']          \n",
      "                                80)                                                               \n",
      "                                                                                                  \n",
      " up_sampling2d_6 (UpSampling2D)  (None, 128, 128, 12  0          ['concatenate_3[0][0]']          \n",
      "                                80)                                                               \n",
      "                                                                                                  \n",
      " up_sampling2d_3 (UpSampling2D)  (None, 256, 256, 12  0          ['up_sampling2d_2[0][0]']        \n",
      "                                80)                                                               \n",
      "                                                                                                  \n",
      " up_sampling2d_7 (UpSampling2D)  (None, 256, 256, 12  0          ['up_sampling2d_6[0][0]']        \n",
      "                                80)                                                               \n",
      "                                                                                                  \n",
      " table_output (Conv2DTranspose)  (None, 512, 512, 3)  34563      ['up_sampling2d_3[0][0]']        \n",
      "                                                                                                  \n",
      " column_output (Conv2DTranspose  (None, 512, 512, 3)  34563      ['up_sampling2d_7[0][0]']        \n",
      " )                                                                                                \n",
      "                                                                                                  \n",
      "==================================================================================================\n",
      "Total params: 21,406,790\n",
      "Trainable params: 1,382,406\n",
      "Non-trainable params: 20,024,384\n",
      "__________________________________________________________________________________________________\n"
     ]
    }
   ],
   "source": [
    "model.summary()"
   ]
  },
  {
   "cell_type": "code",
   "execution_count": null,
   "metadata": {},
   "outputs": [],
   "source": []
  }
 ],
 "metadata": {
  "kernelspec": {
   "display_name": "Python 3.9.7 ('venv': venv)",
   "language": "python",
   "name": "python3"
  },
  "language_info": {
   "codemirror_mode": {
    "name": "ipython",
    "version": 3
   },
   "file_extension": ".py",
   "mimetype": "text/x-python",
   "name": "python",
   "nbconvert_exporter": "python",
   "pygments_lexer": "ipython3",
   "version": "3.9.7"
  },
  "orig_nbformat": 4,
  "vscode": {
   "interpreter": {
    "hash": "8a32f5061fcf236c4e6fcbf0f08e30b66d2a94d65fcc5ab372fe6f428f3c84fb"
   }
  }
 },
 "nbformat": 4,
 "nbformat_minor": 2
}
