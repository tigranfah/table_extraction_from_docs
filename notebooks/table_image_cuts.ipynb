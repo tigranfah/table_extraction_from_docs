{
 "cells": [
  {
   "cell_type": "code",
   "execution_count": 2,
   "metadata": {},
   "outputs": [],
   "source": [
    "import cv2\n",
    "import numpy as np\n",
    "\n",
    "import sys\n",
    "import os\n",
    "from pathlib import Path\n",
    "import pathlib\n",
    "\n",
    "sys.path.insert(0, \"../scripts\")"
   ]
  },
  {
   "cell_type": "code",
   "execution_count": 3,
   "metadata": {},
   "outputs": [
    {
     "data": {
      "text/plain": [
       "<module 'utils' from '/home/cseadmin/Tigran/table_extractor/notebooks/../scripts/utils.py'>"
      ]
     },
     "execution_count": 3,
     "metadata": {},
     "output_type": "execute_result"
    }
   ],
   "source": [
    "import vis\n",
    "import utils\n",
    "\n",
    "import importlib\n",
    "\n",
    "importlib.reload(vis)\n",
    "importlib.reload(utils)"
   ]
  },
  {
   "cell_type": "code",
   "execution_count": 4,
   "metadata": {},
   "outputs": [],
   "source": [
    "ind_masks = []\n",
    "DATASET_PATH = \"../datasets/\""
   ]
  },
  {
   "cell_type": "code",
   "execution_count": 25,
   "metadata": {},
   "outputs": [],
   "source": [
    "def ext_ind_masks(image):\n",
    "    img = cv2.imread(DATASET_PATH + \"/ann_images/\" + image, cv2.IMREAD_GRAYSCALE)\n",
    "    b_n, ext = os.path.splitext(image)\n",
    "    if not os.path.exists(DATASET_PATH + '/ann_masks/' + b_n + \"_mask\" + ext):\n",
    "        return\n",
    "    mask = cv2.imread(DATASET_PATH + '/ann_masks/' + b_n + \"_mask\" + ext, cv2.IMREAD_GRAYSCALE)\n",
    "\n",
    "    # vis.imshow(img)\n",
    "\n",
    "    thresh = cv2.threshold(mask, 30, 255, cv2.THRESH_BINARY)[1]\n",
    "\n",
    "    contours, hierarchy = cv2.findContours(image=thresh, mode=cv2.RETR_TREE, method=cv2.CHAIN_APPROX_NONE)\n",
    "\n",
    "    for i, c in enumerate(contours):\n",
    "        min_x, max_x = np.squeeze(c)[:, 0].min(), np.squeeze(c)[:, 0].max()\n",
    "        min_y, max_y = np.squeeze(c)[:, 1].min(), np.squeeze(c)[:, 1].max()\n",
    "        # min_x, min_y = min(np.squeeze(c)[:, 0]), min(np.squeeze(c)[:, 1])\n",
    "        # max_x, max_y = max(np.squeeze(c)[:, 0]), max(np.squeeze(c)[:, 1])\n",
    "        # print(min_x, max_x, min_y, max_y)\n",
    "        ind_mask = img[min_y:max_y, min_x:max_x]\n",
    "        # print(ind_mask.shape)\n",
    "        # vis.imshow(ind_mask, fac=20)\n",
    "        cv2.imwrite(\"../datasets/ann_tables/\" + f\"{b_n}_{i}.jpg\", ind_mask)\n",
    "        print(f\"Saved {'ann_tables/' + f'{b_n}_{i}.jpg'}\", end=\"\\r\")\n",
    "        # break"
   ]
  },
  {
   "cell_type": "code",
   "execution_count": 28,
   "metadata": {},
   "outputs": [
    {
     "name": "stdout",
     "output_type": "stream",
     "text": [
      "Saved ann_tables/Part-1.pdf_page_4_0.jpgg4_0.jpg0006_1.jpg_1.jpggjpg_ocr.pdf_page_29_1.jpg\r"
     ]
    }
   ],
   "source": [
    "for n in os.listdir(DATASET_PATH + \"ann_images\"):\n",
    "    # print(n)\n",
    "    ext_ind_masks(n)"
   ]
  },
  {
   "cell_type": "code",
   "execution_count": 30,
   "metadata": {},
   "outputs": [],
   "source": [
    "min_shape = (np.inf, np.inf)\n",
    "for n in utils.TABLE_NAMES:\n",
    "    table = cv2.imread(f\"../datasets/tables/{n}\", cv2.IMREAD_GRAYSCALE)\n",
    "    # print(table.shape)\n",
    "    min_shape = min(min_shape, table.shape)"
   ]
  },
  {
   "cell_type": "code",
   "execution_count": 32,
   "metadata": {},
   "outputs": [
    {
     "data": {
      "text/plain": [
       "1750"
      ]
     },
     "execution_count": 32,
     "metadata": {},
     "output_type": "execute_result"
    }
   ],
   "source": [
    "min_shape[0] * min_shape[1]"
   ]
  },
  {
   "cell_type": "code",
   "execution_count": null,
   "metadata": {},
   "outputs": [],
   "source": []
  }
 ],
 "metadata": {
  "kernelspec": {
   "display_name": "Python 3.9.7 ('venv': venv)",
   "language": "python",
   "name": "python3"
  },
  "language_info": {
   "codemirror_mode": {
    "name": "ipython",
    "version": 3
   },
   "file_extension": ".py",
   "mimetype": "text/x-python",
   "name": "python",
   "nbconvert_exporter": "python",
   "pygments_lexer": "ipython3",
   "version": "3.9.7"
  },
  "orig_nbformat": 4,
  "vscode": {
   "interpreter": {
    "hash": "8a32f5061fcf236c4e6fcbf0f08e30b66d2a94d65fcc5ab372fe6f428f3c84fb"
   }
  }
 },
 "nbformat": 4,
 "nbformat_minor": 2
}
