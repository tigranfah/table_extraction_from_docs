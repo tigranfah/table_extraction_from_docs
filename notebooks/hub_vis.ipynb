{
 "cells": [
  {
   "cell_type": "code",
   "execution_count": 10,
   "metadata": {},
   "outputs": [
    {
     "name": "stdout",
     "output_type": "stream",
     "text": [
      "Requirement already satisfied: flask in /home/tigran-analysed/Desktop/analysed.ai/table_extractor/venv/lib/python3.10/site-packages (2.1.3)\n",
      "Requirement already satisfied: Werkzeug>=2.0 in /home/tigran-analysed/Desktop/analysed.ai/table_extractor/venv/lib/python3.10/site-packages (from flask) (2.1.2)\n",
      "Requirement already satisfied: itsdangerous>=2.0 in /home/tigran-analysed/Desktop/analysed.ai/table_extractor/venv/lib/python3.10/site-packages (from flask) (2.1.2)\n",
      "Requirement already satisfied: Jinja2>=3.0 in /home/tigran-analysed/Desktop/analysed.ai/table_extractor/venv/lib/python3.10/site-packages (from flask) (3.1.2)\n",
      "Requirement already satisfied: click>=8.0 in /home/tigran-analysed/Desktop/analysed.ai/table_extractor/venv/lib/python3.10/site-packages (from flask) (8.1.3)\n",
      "Requirement already satisfied: MarkupSafe>=2.0 in /home/tigran-analysed/Desktop/analysed.ai/table_extractor/venv/lib/python3.10/site-packages (from Jinja2>=3.0->flask) (2.1.1)\n",
      "\u001b[33mWARNING: You are using pip version 22.0.4; however, version 22.1.2 is available.\n",
      "You should consider upgrading via the '/home/tigran-analysed/Desktop/analysed.ai/table_extractor/venv/bin/python3.10 -m pip install --upgrade pip' command.\u001b[0m\u001b[33m\n",
      "\u001b[0mRequirement already satisfied: Pillow in /home/tigran-analysed/Desktop/analysed.ai/table_extractor/venv/lib/python3.10/site-packages (9.2.0)\n",
      "\u001b[33mWARNING: You are using pip version 22.0.4; however, version 22.1.2 is available.\n",
      "You should consider upgrading via the '/home/tigran-analysed/Desktop/analysed.ai/table_extractor/venv/bin/python3.10 -m pip install --upgrade pip' command.\u001b[0m\u001b[33m\n",
      "\u001b[0m"
     ]
    }
   ],
   "source": [
    "!pip install flask\n",
    "!pip install Pillow"
   ]
  },
  {
   "cell_type": "code",
   "execution_count": 75,
   "metadata": {},
   "outputs": [
    {
     "data": {
      "text/plain": [
       "<module 'utils' from '/home/tigran-analysed/Desktop/analysed.ai/table_extractor/notebooks/../scripts/utils.py'>"
      ]
     },
     "execution_count": 75,
     "metadata": {},
     "output_type": "execute_result"
    }
   ],
   "source": [
    "import hub\n",
    "from PIL import Image\n",
    "import numpy as np\n",
    "import os\n",
    "\n",
    "import sys\n",
    "sys.path.insert(0, \"../scripts/\")\n",
    "\n",
    "from utils import image_batch_generator, DS_IMAGES\n",
    "import utils\n",
    "\n",
    "import importlib\n",
    "\n",
    "importlib.reload(utils)"
   ]
  },
  {
   "cell_type": "code",
   "execution_count": 76,
   "metadata": {},
   "outputs": [],
   "source": [
    "IMAGE_NAMES = os.listdir(DS_IMAGES)"
   ]
  },
  {
   "cell_type": "code",
   "execution_count": 77,
   "metadata": {},
   "outputs": [],
   "source": [
    "dataset_folder = '../datasets/tables_hub'\n",
    "\n",
    "ds = hub.empty(dataset_folder)"
   ]
  },
  {
   "cell_type": "code",
   "execution_count": 78,
   "metadata": {},
   "outputs": [],
   "source": [
    "class_names = os.listdir(dataset_folder)"
   ]
  },
  {
   "cell_type": "code",
   "execution_count": 79,
   "metadata": {},
   "outputs": [
    {
     "data": {
      "text/plain": [
       "['dataset_meta.json']"
      ]
     },
     "execution_count": 79,
     "metadata": {},
     "output_type": "execute_result"
    }
   ],
   "source": [
    "class_names"
   ]
  },
  {
   "cell_type": "code",
   "execution_count": 80,
   "metadata": {},
   "outputs": [],
   "source": [
    "files_list = []\n",
    "for dirpath, dirnames, filenames in os.walk(dataset_folder):\n",
    "    for filename in filenames:\n",
    "        files_list.append(os.path.join(dirpath, filename))"
   ]
  },
  {
   "cell_type": "code",
   "execution_count": 81,
   "metadata": {},
   "outputs": [],
   "source": [
    "with ds:\n",
    "    # Create the tensors with names of your choice.\n",
    "    ds.create_tensor('images', htype = 'image', sample_compression = 'png')\n",
    "    ds.create_tensor('masks', htype = 'binary_mask')\n",
    "    \n",
    "    # Add arbitrary metadata - Optional\n",
    "    ds.info.update(description = 'My first Hub dataset')\n",
    "    ds.images.info.update(camera_type = 'SLR')"
   ]
  },
  {
   "cell_type": "code",
   "execution_count": 82,
   "metadata": {},
   "outputs": [],
   "source": [
    "from cv2 import normalize\n",
    "\n",
    "with ds:\n",
    "    # Iterate through the files and append to hub dataset\n",
    "    for batch_X, batch_y in image_batch_generator(\n",
    "        IMAGE_NAMES, \n",
    "        batch_size=8, \n",
    "        resize_shape=(512, 512),\n",
    "        normalize=False\n",
    "    ):\n",
    "        for X, y in zip(batch_X, batch_y):\n",
    "            #Append data to the tensors\n",
    "            ds.append({'images': X.astype(np.uint8), 'masks': y.astype(np.bool_)})"
   ]
  },
  {
   "cell_type": "code",
   "execution_count": null,
   "metadata": {},
   "outputs": [],
   "source": []
  }
 ],
 "metadata": {
  "kernelspec": {
   "display_name": "Python 3.10.5 ('venv': venv)",
   "language": "python",
   "name": "python3"
  },
  "language_info": {
   "codemirror_mode": {
    "name": "ipython",
    "version": 3
   },
   "file_extension": ".py",
   "mimetype": "text/x-python",
   "name": "python",
   "nbconvert_exporter": "python",
   "pygments_lexer": "ipython3",
   "version": "3.10.5"
  },
  "orig_nbformat": 4,
  "vscode": {
   "interpreter": {
    "hash": "892f614baa9d04519f1f731f14ca3156f1c72908f1be1277dcf0c7c8a00f770c"
   }
  }
 },
 "nbformat": 4,
 "nbformat_minor": 2
}
